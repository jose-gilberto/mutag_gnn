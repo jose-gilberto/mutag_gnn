{
 "cells": [
  {
   "cell_type": "markdown",
   "id": "bb6a4837",
   "metadata": {},
   "source": [
    "## 01 - Introduction"
   ]
  },
  {
   "cell_type": "markdown",
   "id": "a97e796f",
   "metadata": {},
   "source": [
    "### Articles and papers\n",
    "\n",
    "- F. Scarselli, M. Gori, A. C. Tsoi, M. Hagenbuchner and G. Monfardini, \"The Graph Neural Network Model\" in IEEE Transactions on Neural Networks, vol. 20, no. 1.\n",
    "- J. Johnson, A. Gupta, and L. Fei-Fei, “Image generation from scene graphs,” in Proc. of CVPR, 2018.\n",
    "- Guan Y., Sun X. & Sun Y. Sparse relation prediction based on hypergraph neural networks in online social networks. World Wide Web (2021).\n",
    "- Zhongkai H., Chengqiang L., Zhenya H., et al. 2020. ASGN: An Active Semi-supervised Graph Neural Network for Molecular Property Prediction. Proceedings of the 26th ACM SIGKDD International Conference on Knowledge Discovery & Data Mining. Association for Computing Machinery.\n",
    "- Mingjian W., Samuel M. B., Evan W. C. S., Shyam D. and Kristin A. P., \"BonDNet: a graph neural network for the prediction of bond dissociation energies for charged molecules\" in Chem. Sci., 2021, 12, 1858-1868.\n",
    "- Lei C., Zhengdao C. and Joan B. \"On Graph Neural Networks versus Graph-Augmented MLPs\" in International Conference on Learning Representations, 2021."
   ]
  },
  {
   "cell_type": "markdown",
   "id": "f8c233d3",
   "metadata": {},
   "source": [
    "### Most influent author\n",
    "\n",
    "- Thomas N. Kipf\n",
    "    - https://tkipf.github.io/graph-convolutional-networks/\n",
    "    - Nicola De Cao, and Thomas Kipf. (2018). MolGAN: An implicit generative model for small molecular graphs.\n",
    "    - Thomas N. Kipf, and Max Welling. (2017). Semi-Supervised Classification with Graph Convolutional Networks.\n",
    "    - Thomas N. Kipf, and Max Welling. (2016). Variational Graph Auto-Encoders.\n",
    "    - https://github.com/tkipf/pygcn\n",
    "    - Implementations in torch_geometric library.\n",
    "\n"
   ]
  },
  {
   "cell_type": "markdown",
   "id": "20fe69a2",
   "metadata": {},
   "source": [
    "### Analysis objective\n",
    "\n",
    "- Predict the mutagenicity of some compounds on Salmonella typhimurium using MUTAG Dataset and basics GNNs."
   ]
  }
 ],
 "metadata": {
  "kernelspec": {
   "display_name": "Python 3",
   "language": "python",
   "name": "python3"
  },
  "language_info": {
   "codemirror_mode": {
    "name": "ipython",
    "version": 3
   },
   "file_extension": ".py",
   "mimetype": "text/x-python",
   "name": "python",
   "nbconvert_exporter": "python",
   "pygments_lexer": "ipython3",
   "version": "3.8.8"
  }
 },
 "nbformat": 4,
 "nbformat_minor": 5
}
