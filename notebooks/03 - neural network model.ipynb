{
 "cells": [
  {
   "cell_type": "markdown",
   "id": "b92d4778",
   "metadata": {},
   "source": [
    "## 03 - neural network model"
   ]
  },
  {
   "cell_type": "markdown",
   "id": "eaaf1beb",
   "metadata": {},
   "source": [
    "The base structure of the model is called GNN (short for graph neural network), it is a class that handles the basic operations of a graph neural network using torch_geometric layers. It can receive as parameters the number of input channels, the number of channels used in the internal layers and the number of output channels, as well as the number of layers that will be built internally and the dropout that will be applied to them.\n",
    "\n",
    "So for the construction of the inner layers we can switch between using 3 types of layers: GCNConv; GATConv; GraphConv.\n",
    "\n",
    "```python\n",
    "gnn_layer_by_name = {\n",
    "    'GCN': geom_nn.GCNConv,\n",
    "    'GAT': geom_nn.GATConv,\n",
    "    'GraphConv': geom_nn.GraphConv\n",
    "}\n",
    "```\n",
    "\n",
    "- GCN is a proposed layer in this paper [Semi-Supervised Classification with Graph Convolutional Networks](https://arxiv.org/abs/1609.02907) and performs the convolution operation on graphs.\n",
    "- GAT is a layer that implements the concept of attention em for graphs proposed in the paper [Graph Attention Networks](https://arxiv.org/abs/1710.10903).\n",
    "- GraphConv operator of the [Weisfeiler and Leman Go Neural: Higher-order Graph Neural Networks](https://arxiv.org/abs/1810.02244)."
   ]
  },
  {
   "cell_type": "markdown",
   "id": "75ad9037",
   "metadata": {},
   "source": [
    "On top of this base class for GNNs we have the GraphGNNModel class that adds to the end of all these layers what we call head, a sequence formed by a dropout layer and a linear layer. The linear layer has as input the same channel number that we passed as hidden and its output is actually the one we passed. Graphically we have something described as below:"
   ]
  },
  {
   "cell_type": "markdown",
   "id": "063eb7a8",
   "metadata": {},
   "source": [
    "![](./notebooks/assets/gnn.svg)"
   ]
  },
  {
   "cell_type": "markdown",
   "id": "37a026b6",
   "metadata": {},
   "source": [
    "Now seeing the exact numbered definitions of our model built for the problem, we can build the following sequence of layers:"
   ]
  },
  {
   "cell_type": "markdown",
   "id": "bb29d40f",
   "metadata": {},
   "source": [
    "```\n",
    "\n",
    "GraphLevelGNN(\n",
    "    GraphGNNModel(\n",
    "        GNNModel(\n",
    "            ModuleList(\n",
    "                geom_nn.GraphConv(in=7, out=256),\n",
    "                ReLU(),\n",
    "                Dropout(0.1),\n",
    "                geom_nn.GraphConv(in=256, out=256),\n",
    "                ReLU(),\n",
    "                Dropout(0.1),\n",
    "                geom_nn.GraphConv(in=256, out=256),\n",
    "                ReLU(),\n",
    "                Dropout(0.1),\n",
    "                geom_nn.GraphConv(in=256, out=256)\n",
    "            )\n",
    "        ),\n",
    "        Sequential(\n",
    "            Dropout(0.5),\n",
    "            Linear(in=256, out=1)\n",
    "        )\n",
    "    )\n",
    ")\n",
    "\n",
    "```"
   ]
  }
 ],
 "metadata": {
  "kernelspec": {
   "display_name": "Python 3",
   "language": "python",
   "name": "python3"
  },
  "language_info": {
   "codemirror_mode": {
    "name": "ipython",
    "version": 3
   },
   "file_extension": ".py",
   "mimetype": "text/x-python",
   "name": "python",
   "nbconvert_exporter": "python",
   "pygments_lexer": "ipython3",
   "version": "3.8.8"
  }
 },
 "nbformat": 4,
 "nbformat_minor": 5
}
